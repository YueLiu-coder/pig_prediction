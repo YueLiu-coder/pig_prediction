{
 "cells": [
  {
   "cell_type": "code",
   "execution_count": 50,
   "metadata": {},
   "outputs": [],
   "source": [
    "import numpy as np\n",
    "import pandas as pd\n",
    "import random\n",
    "random.seed(2019) "
   ]
  },
  {
   "cell_type": "code",
   "execution_count": 51,
   "metadata": {},
   "outputs": [],
   "source": [
    "datasets =pd.DataFrame(columns=('母猪品种','variety','体况','body_condition','季节','season','胎次','配种前天数','配种后天数','产子后天数','产子数量','断奶后天数','饲料量'))\n",
    "datasets = datasets[['母猪品种','variety','体况','body_condition','季节','season','胎次','配种前天数','配种后天数','产子后天数','产子数量','断奶后天数','饲料量']]"
   ]
  },
  {
   "cell_type": "code",
   "execution_count": 52,
   "metadata": {},
   "outputs": [],
   "source": [
    "variety_list = ['太湖母猪', '荣昌母猪', '海波儿猪', '太湖母猪', '苏太母猪', '二元母猪']  # 母猪种类\n",
    "body_condition = ['很瘦', '偏瘦', '标准', '偏胖', '很胖']  # 体况\n",
    "season = ['春', '夏', '秋', '冬']  # 季节\n",
    "\n",
    "\n",
    "time_child = range(1, 7)  # 胎次\n",
    "days_before_planting = range(1, 10)  # 配种前天数\n",
    "days_after_planting = range(1, 120)  # 配种后天数\n",
    "days_after_birth = range(1, 29)  # 产子后天数\n",
    "num_child = range(2, 6)  # 产子数量\n",
    "days_atfer_weaning= range(1, 8)  # 断奶后天数"
   ]
  },
  {
   "cell_type": "code",
   "execution_count": 54,
   "metadata": {},
   "outputs": [
    {
     "name": "stderr",
     "output_type": "stream",
     "text": [
      "/home/leviathan/anaconda3/lib/python3.6/site-packages/pandas/core/frame.py:6201: FutureWarning: Sorting because non-concatenation axis is not aligned. A future version\n",
      "of pandas will change to not sort by default.\n",
      "\n",
      "To accept the future behavior, pass 'sort=True'.\n",
      "\n",
      "To retain the current behavior and silence the warning, pass sort=False\n",
      "\n",
      "  sort=sort)\n"
     ]
    }
   ],
   "source": [
    "for i in range(0,200):  # 产生样本数量\n",
    "    \n",
    "    num_random = random.randint(0, 3) # 随机数产生此样本处于哪一种状态，比如配种前，配种后等4类\n",
    "    temp_variety = random.randint(0, 5)  # 随机产生母猪种类,对应variety_list的6类\n",
    "    temp_body_condition = random.randint(0, 4) # 随机产生体况，对应body_condition的5类\n",
    "    temp_season = random.randint(0,3)  # 随机产生季节，对应season的4类\n",
    "    temp_time_child = random.sample(time_child ,1)  # 随机产生胎次\n",
    "    \n",
    "    if num_random == 0:  # 配种前\n",
    "        temp_days_before_planting = random.sample(days_before_planting ,1)  # 随机产生配种前天数\n",
    "        # 配种前食用3kg + -0.3到0.3的均匀分布噪声 + 根据体况判断是否增加食量\n",
    "        temp_feed_amount = 3 + random.uniform(-0.3,0.3) + (4-temp_body_condition)*random.uniform(0,0.2)  \n",
    "        \n",
    "        datasets=datasets.append(pd.DataFrame({\n",
    "            '母猪品种':[variety_list[temp_variety]],\n",
    "            'variety' :[temp_variety],\n",
    "            '体况':[body_condition[temp_body_condition]],\n",
    "            'body_condition': [temp_body_condition],\n",
    "            '季节':season[temp_season],\n",
    "            'season':[temp_season],\n",
    "            '胎次':temp_time_child,\n",
    "            '配种前天数':temp_days_before_planting,\n",
    "            '饲料量' :[temp_feed_amount]\n",
    "        }), ignore_index=True)\n",
    "        \n",
    "    if num_random == 1:  # 配种后\n",
    "        temp_days_after_planting = random.sample(days_after_planting ,1)  # 随机产生配种后天数\n",
    "        \n",
    "        if temp_days_after_planting[0] == 1:  # 若配种当天\n",
    "            # 配种当天食用1.7kg + -1到1的均匀分布噪声 + 根据体况判断是否增加食量\n",
    "            temp_feed_amount = 1.7 + random.uniform(-1,1) + (4-temp_body_condition)*random.uniform(0,0.2)  \n",
    "            \n",
    "        elif 40 < temp_days_after_planting[0] < 60:  # 若配种后40-60天，喂怀孕母猪料2.0公斤/天\n",
    "            # 配种后食用2kg + -0.5到0.5的均匀分布噪声 + 根据体况判断是否增加食量\n",
    "            temp_feed_amount = 2.0 + random.uniform(-0.5,0.5) + (4-temp_body_condition)*random.uniform(0,0.2)\n",
    "            \n",
    "        elif 60 < temp_days_after_planting[0] < 90:  # 若配种后60-90天，喂怀孕母猪料2.0-2.5公斤/天。\n",
    "            # 配种后食用2.25kg + -0.25到0.25的均匀分布噪声 + 根据体况判断是否增加食量\n",
    "            temp_feed_amount = 2.25 + random.uniform(-0.25,0.25) + (4-temp_body_condition)*random.uniform(0,0.2)\n",
    "        \n",
    "        elif temp_days_after_planting[0] >= 90:  # 怀孕90天—喂哺乳母猪料2.5-3.0公斤/天\n",
    "            # 配种后食用2.75kg + -0.25到0.25的均匀分布噪声 + 根据体况判断是否增加食量\n",
    "            temp_feed_amount = 2.75 + random.uniform(-0.25,0.25) + (4-temp_body_condition)*random.uniform(0,0.2)\n",
    "        else:  # 在2-39天\n",
    "            # 配种后食用2kg + -0.1到0.1的均匀分布噪声 + 根据体况判断是否增加食量\n",
    "            temp_feed_amount = 2.0 + random.uniform(-0.1,0.1) + (4-temp_body_condition)*random.uniform(0,0.2)\n",
    "        \n",
    "        datasets=datasets.append(pd.DataFrame({\n",
    "            '母猪品种':[variety_list[temp_variety]],\n",
    "            'variety' :[temp_variety],\n",
    "            '体况':[body_condition[temp_body_condition]],\n",
    "            'body_condition': [temp_body_condition],\n",
    "            '季节':season[temp_season],\n",
    "            'season':[temp_season],\n",
    "            '胎次':temp_time_child,\n",
    "            '配种后天数':temp_days_before_planting,\n",
    "            '饲料量' :[temp_feed_amount]\n",
    "        }), ignore_index=True)\n",
    "        \n",
    "    if num_random == 2:  # 产子后\n",
    "        temp_days_after_birth = random.sample(days_after_birth ,1)  # 随机产生产子后天数\n",
    "        temp_num_child = random.sample(num_child, 1)\n",
    "        # 3Kg+330g×带仔数/头母猪 + -0.1到0.1的均匀分布噪声 + 根据体况判断是否增加食量\n",
    "        temp_feed_amount = 3 + 0.33*temp_time_child[0] + random.uniform(-0.1,0.1) + (4-temp_body_condition)*random.uniform(0,0.2)\n",
    "        \n",
    "        datasets=datasets.append(pd.DataFrame({\n",
    "            '母猪品种':[variety_list[temp_variety]],\n",
    "            'variety' :[temp_variety],\n",
    "            '体况':[body_condition[temp_body_condition]],\n",
    "            'body_condition': [temp_body_condition],\n",
    "            '季节':season[temp_season],\n",
    "            'season':[temp_season],\n",
    "            '胎次':temp_time_child,\n",
    "            '产子后天数':temp_days_after_birth,\n",
    "            '产子数量' :temp_time_child,\n",
    "            '饲料量' :[temp_feed_amount]\n",
    "        }), ignore_index=True)\n",
    "        \n",
    "    if num_random == 3:  # 断奶后天数\n",
    "        temp_days_after_weaning = random.sample(days_atfer_weaning ,1)  # 随机产生断奶后天数\n",
    "        # 3.25公斤/天 + -0.1到0.1的均匀分布噪声 + 根据体况判断是否增加食量\n",
    "        temp_feed_amount = 3.25 +  random.uniform(-0.1,0.1) + (4-temp_body_condition)*random.uniform(0,0.2)\n",
    "        \n",
    "        datasets=datasets.append(pd.DataFrame({\n",
    "            '母猪品种':[variety_list[temp_variety]],\n",
    "            'variety' :[temp_variety],\n",
    "            '体况':[body_condition[temp_body_condition]],\n",
    "            'body_condition': [temp_body_condition],\n",
    "            '季节':season[temp_season],\n",
    "            'season':[temp_season],\n",
    "            '胎次':temp_time_child,\n",
    "            '断奶后天数':temp_days_after_weaning,\n",
    "            '饲料量' :[temp_feed_amount]\n",
    "        }), ignore_index=True)       \n",
    "\n"
   ]
  },
  {
   "cell_type": "code",
   "execution_count": 55,
   "metadata": {},
   "outputs": [],
   "source": [
    "datasets = datasets[['母猪品种','variety','体况','body_condition','季节','season','胎次','配种前天数','配种后天数','产子后天数','产子数量','断奶后天数','饲料量']]\n",
    "datasets = datasets.drop(['饲料量'], axis=1)"
   ]
  },
  {
   "cell_type": "code",
   "execution_count": 56,
   "metadata": {},
   "outputs": [],
   "source": [
    "datasets.to_csv('test_datasets.csv',header=True,index=False,encoding=\"utf_8_sig\")"
   ]
  }
 ],
 "metadata": {
  "kernelspec": {
   "display_name": "Python 3",
   "language": "python",
   "name": "python3"
  },
  "language_info": {
   "codemirror_mode": {
    "name": "ipython",
    "version": 3
   },
   "file_extension": ".py",
   "mimetype": "text/x-python",
   "name": "python",
   "nbconvert_exporter": "python",
   "pygments_lexer": "ipython3",
   "version": "3.6.5"
  }
 },
 "nbformat": 4,
 "nbformat_minor": 2
}
